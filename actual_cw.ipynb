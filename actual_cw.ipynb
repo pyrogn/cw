{
 "cells": [
  {
   "cell_type": "code",
   "execution_count": 1,
   "metadata": {},
   "outputs": [],
   "source": [
    "import numpy as np\n",
    "import pandas as pd\n",
    "from tqdm import tqdm\n",
    "import random\n",
    "from scipy import stats\n",
    "from statsmodels.stats import proportion"
   ]
  },
  {
   "cell_type": "code",
   "execution_count": 2,
   "metadata": {},
   "outputs": [],
   "source": [
    "import nltk\n",
    "from nltk.tokenize import sent_tokenize, word_tokenize\n",
    "from nltk.stem.snowball import SnowballStemmer\n",
    "from nltk.corpus import stopwords\n",
    "from pymystem3 import Mystem\n",
    "from string import punctuation"
   ]
  },
  {
   "cell_type": "code",
   "execution_count": 3,
   "metadata": {},
   "outputs": [],
   "source": [
    "import matplotlib as mpl\n",
    "import matplotlib.pyplot as plt\n",
    "%matplotlib inline\n",
    "\n",
    "from PIL import Image\n",
    "# from wordcloud import WordCloud, STOPWORDS, ImageColorGenerator\n",
    "\n",
    "# import warnings \n",
    "# warnings.filterwarnings('ignore')"
   ]
  },
  {
   "cell_type": "code",
   "execution_count": 4,
   "metadata": {},
   "outputs": [],
   "source": [
    "# import warnings\n",
    "# warnings.filterwarnings(\"ignore\", category=DeprecationWarning)"
   ]
  },
  {
   "cell_type": "code",
   "execution_count": 5,
   "metadata": {},
   "outputs": [],
   "source": [
    "df = pd.read_excel('finalAll.xlsx')"
   ]
  },
  {
   "cell_type": "code",
   "execution_count": 6,
   "metadata": {},
   "outputs": [
    {
     "name": "stdout",
     "output_type": "stream",
     "text": [
      "<class 'pandas.core.frame.DataFrame'>\n",
      "RangeIndex: 9624 entries, 0 to 9623\n",
      "Data columns (total 21 columns):\n",
      " #   Column                                                                        Non-Null Count  Dtype  \n",
      "---  ------                                                                        --------------  -----  \n",
      " 0   отзыв                                                                         9624 non-null   object \n",
      " 1   Разметка отзыва (п - положительный, н - нейтральный, о - отрицательный)       9623 non-null   object \n",
      " 2   ответ психолога на отзыв                                                      5229 non-null   object \n",
      " 3   ссылка на профиль\n",
      "                                                            9624 non-null   object \n",
      " 4   пол (м или ж)                                                                 9624 non-null   object \n",
      " 5   возраст                                                                       8355 non-null   float64\n",
      " 6   опыт работы психологом (количество лет, число)                                8045 non-null   float64\n",
      " 7   Город                                                                         9571 non-null   object \n",
      " 8   Количество публикаций на b17                                                  9474 non-null   float64\n",
      " 9   Количество отзывов                                                            9624 non-null   int64  \n",
      " 10  Количество обратившихся                                                       9335 non-null   float64\n",
      " 11  количество онлайн-консультаций (число)                                        9396 non-null   float64\n",
      " 12  Высшее психологическое образование, вуз, специальность, квалификация(да\\нет)  9367 non-null   object \n",
      " 13  год окончания психологического образования                                    8869 non-null   object \n",
      " 14  количество курсов повышения квалификации (число)                              9595 non-null   object \n",
      " 15  Названия курсов повышения квалификации (через точку с запятой)                8903 non-null   object \n",
      " 16  Было ли высшее образование до психологического (ДА/нет)                       9431 non-null   object \n",
      " 17  стоимость одной очной консультации (в рублях)                                 9536 non-null   float64\n",
      " 18  Проблемы с которыми работает (текст, через точку с запятой)                   9285 non-null   object \n",
      " 19  Психологические школы (текст, через точку с запятой)                          9384 non-null   object \n",
      " 20  Полный текст самопрезентации психолога                                        9624 non-null   object \n",
      "dtypes: float64(6), int64(1), object(14)\n",
      "memory usage: 1.5+ MB\n"
     ]
    }
   ],
   "source": [
    "df.info()"
   ]
  },
  {
   "cell_type": "code",
   "execution_count": 7,
   "metadata": {},
   "outputs": [],
   "source": [
    "df[df.columns[17]] = pd.to_numeric(df[df.columns[17]])"
   ]
  },
  {
   "cell_type": "markdown",
   "metadata": {},
   "source": [
    "Найдём связь между ценой и отзывами"
   ]
  },
  {
   "cell_type": "code",
   "execution_count": 8,
   "metadata": {},
   "outputs": [],
   "source": [
    "df['is_negative'] = df[df.columns[1]].apply(lambda x: 1 if x == 'о' else 0)"
   ]
  },
  {
   "cell_type": "code",
   "execution_count": 9,
   "metadata": {},
   "outputs": [
    {
     "data": {
      "text/html": [
       "<div>\n",
       "<style scoped>\n",
       "    .dataframe tbody tr th:only-of-type {\n",
       "        vertical-align: middle;\n",
       "    }\n",
       "\n",
       "    .dataframe tbody tr th {\n",
       "        vertical-align: top;\n",
       "    }\n",
       "\n",
       "    .dataframe thead th {\n",
       "        text-align: right;\n",
       "    }\n",
       "</style>\n",
       "<table border=\"1\" class=\"dataframe\">\n",
       "  <thead>\n",
       "    <tr style=\"text-align: right;\">\n",
       "      <th></th>\n",
       "      <th>стоимость одной очной консультации (в рублях)</th>\n",
       "      <th>is_negative</th>\n",
       "    </tr>\n",
       "  </thead>\n",
       "  <tbody>\n",
       "    <tr>\n",
       "      <th>стоимость одной очной консультации (в рублях)</th>\n",
       "      <td>1.000000</td>\n",
       "      <td>0.125368</td>\n",
       "    </tr>\n",
       "    <tr>\n",
       "      <th>is_negative</th>\n",
       "      <td>0.125368</td>\n",
       "      <td>1.000000</td>\n",
       "    </tr>\n",
       "  </tbody>\n",
       "</table>\n",
       "</div>"
      ],
      "text/plain": [
       "                                               стоимость одной очной консультации (в рублях)  \\\n",
       "стоимость одной очной консультации (в рублях)                                       1.000000   \n",
       "is_negative                                                                         0.125368   \n",
       "\n",
       "                                               is_negative  \n",
       "стоимость одной очной консультации (в рублях)     0.125368  \n",
       "is_negative                                       1.000000  "
      ]
     },
     "execution_count": 9,
     "metadata": {},
     "output_type": "execute_result"
    }
   ],
   "source": [
    "df.groupby(df.columns[3]).mean()[[df.columns[17], 'is_negative']].corr()"
   ]
  },
  {
   "cell_type": "code",
   "execution_count": 10,
   "metadata": {},
   "outputs": [],
   "source": [
    "k = df.groupby(df.columns[3]).mean()[[df.columns[17], 'is_negative']].dropna()"
   ]
  },
  {
   "cell_type": "code",
   "execution_count": 11,
   "metadata": {},
   "outputs": [
    {
     "data": {
      "text/plain": [
       "(0.1253681118342847, 0.03252838476045884)"
      ]
     },
     "execution_count": 11,
     "metadata": {},
     "output_type": "execute_result"
    }
   ],
   "source": [
    "stats.pearsonr(k.iloc[:, 0], k.iloc[:, 1])"
   ]
  },
  {
   "cell_type": "code",
   "execution_count": null,
   "metadata": {},
   "outputs": [],
   "source": []
  },
  {
   "cell_type": "code",
   "execution_count": 12,
   "metadata": {},
   "outputs": [],
   "source": [
    "df[df.columns[6]] = pd.to_numeric(df[df.columns[6]])"
   ]
  },
  {
   "cell_type": "code",
   "execution_count": 13,
   "metadata": {},
   "outputs": [],
   "source": [
    "df[df.columns[5]] = pd.to_numeric(df[df.columns[5]])"
   ]
  },
  {
   "cell_type": "code",
   "execution_count": 14,
   "metadata": {},
   "outputs": [
    {
     "data": {
      "text/html": [
       "<div>\n",
       "<style scoped>\n",
       "    .dataframe tbody tr th:only-of-type {\n",
       "        vertical-align: middle;\n",
       "    }\n",
       "\n",
       "    .dataframe tbody tr th {\n",
       "        vertical-align: top;\n",
       "    }\n",
       "\n",
       "    .dataframe thead th {\n",
       "        text-align: right;\n",
       "    }\n",
       "</style>\n",
       "<table border=\"1\" class=\"dataframe\">\n",
       "  <thead>\n",
       "    <tr style=\"text-align: right;\">\n",
       "      <th></th>\n",
       "      <th>количество онлайн-консультаций (число)</th>\n",
       "      <th>is_negative</th>\n",
       "    </tr>\n",
       "  </thead>\n",
       "  <tbody>\n",
       "    <tr>\n",
       "      <th>количество онлайн-консультаций (число)</th>\n",
       "      <td>1.000000</td>\n",
       "      <td>-0.017173</td>\n",
       "    </tr>\n",
       "    <tr>\n",
       "      <th>is_negative</th>\n",
       "      <td>-0.017173</td>\n",
       "      <td>1.000000</td>\n",
       "    </tr>\n",
       "  </tbody>\n",
       "</table>\n",
       "</div>"
      ],
      "text/plain": [
       "                                        количество онлайн-консультаций (число)  \\\n",
       "количество онлайн-консультаций (число)                                1.000000   \n",
       "is_negative                                                          -0.017173   \n",
       "\n",
       "                                        is_negative  \n",
       "количество онлайн-консультаций (число)    -0.017173  \n",
       "is_negative                                1.000000  "
      ]
     },
     "execution_count": 14,
     "metadata": {},
     "output_type": "execute_result"
    }
   ],
   "source": [
    "df.groupby(df.columns[3]).mean()[[df.columns[11], 'is_negative']].corr()"
   ]
  },
  {
   "cell_type": "markdown",
   "metadata": {},
   "source": [
    "Так что нет корреляции между возрастом, опытом, кол-вом обратившихся с долей отрицательных отзывов"
   ]
  },
  {
   "cell_type": "code",
   "execution_count": 15,
   "metadata": {},
   "outputs": [
    {
     "data": {
      "text/html": [
       "<div>\n",
       "<style scoped>\n",
       "    .dataframe tbody tr th:only-of-type {\n",
       "        vertical-align: middle;\n",
       "    }\n",
       "\n",
       "    .dataframe tbody tr th {\n",
       "        vertical-align: top;\n",
       "    }\n",
       "\n",
       "    .dataframe thead th {\n",
       "        text-align: right;\n",
       "    }\n",
       "</style>\n",
       "<table border=\"1\" class=\"dataframe\">\n",
       "  <thead>\n",
       "    <tr style=\"text-align: right;\">\n",
       "      <th></th>\n",
       "      <th>возраст</th>\n",
       "      <th>is_negative</th>\n",
       "    </tr>\n",
       "  </thead>\n",
       "  <tbody>\n",
       "    <tr>\n",
       "      <th>возраст</th>\n",
       "      <td>1.000000</td>\n",
       "      <td>0.038055</td>\n",
       "    </tr>\n",
       "    <tr>\n",
       "      <th>is_negative</th>\n",
       "      <td>0.038055</td>\n",
       "      <td>1.000000</td>\n",
       "    </tr>\n",
       "  </tbody>\n",
       "</table>\n",
       "</div>"
      ],
      "text/plain": [
       "              возраст  is_negative\n",
       "возраст      1.000000     0.038055\n",
       "is_negative  0.038055     1.000000"
      ]
     },
     "execution_count": 15,
     "metadata": {},
     "output_type": "execute_result"
    }
   ],
   "source": [
    "df.groupby(df.columns[3]).mean()[[df.columns[5], 'is_negative']].corr()"
   ]
  },
  {
   "cell_type": "code",
   "execution_count": null,
   "metadata": {},
   "outputs": [],
   "source": []
  },
  {
   "cell_type": "code",
   "execution_count": 16,
   "metadata": {},
   "outputs": [
    {
     "data": {
      "text/plain": [
       "ж    116\n",
       "м     70\n",
       "Name: пол (м или ж), dtype: int64"
      ]
     },
     "execution_count": 16,
     "metadata": {},
     "output_type": "execute_result"
    }
   ],
   "source": [
    "df[df[df.columns[1]] == 'о'][df.columns[4]].value_counts()"
   ]
  },
  {
   "cell_type": "code",
   "execution_count": null,
   "metadata": {},
   "outputs": [],
   "source": []
  },
  {
   "cell_type": "code",
   "execution_count": 17,
   "metadata": {},
   "outputs": [
    {
     "data": {
      "text/plain": [
       "ж    6554\n",
       "м    3070\n",
       "Name: пол (м или ж), dtype: int64"
      ]
     },
     "execution_count": 17,
     "metadata": {},
     "output_type": "execute_result"
    }
   ],
   "source": [
    "df[df.columns[4]].value_counts()"
   ]
  },
  {
   "cell_type": "markdown",
   "metadata": {},
   "source": [
    "Распределение психологов по полу"
   ]
  },
  {
   "cell_type": "code",
   "execution_count": 18,
   "metadata": {},
   "outputs": [
    {
     "data": {
      "text/plain": [
       "ж    214\n",
       "м     86\n",
       "Name: пол (м или ж), dtype: int64"
      ]
     },
     "execution_count": 18,
     "metadata": {},
     "output_type": "execute_result"
    }
   ],
   "source": [
    "df.groupby([df.columns[3], df.columns[4]]).mean().reset_index()[df.columns[4]].value_counts()"
   ]
  },
  {
   "cell_type": "code",
   "execution_count": 19,
   "metadata": {},
   "outputs": [
    {
     "data": {
      "text/plain": [
       "ж    0.71\n",
       "м    0.29\n",
       "Name: пол (м или ж), dtype: float64"
      ]
     },
     "execution_count": 19,
     "metadata": {},
     "output_type": "execute_result"
    }
   ],
   "source": [
    "df.groupby([df.columns[3], df.columns[4]]).mean().reset_index()[df.columns[4]].value_counts(normalize=True).round(2)"
   ]
  },
  {
   "cell_type": "code",
   "execution_count": 20,
   "metadata": {},
   "outputs": [
    {
     "data": {
      "text/plain": [
       "(300,)"
      ]
     },
     "execution_count": 20,
     "metadata": {},
     "output_type": "execute_result"
    }
   ],
   "source": [
    "df.groupby([df.columns[3], df.columns[4]]).mean().reset_index()[df.columns[4]].shape"
   ]
  },
  {
   "cell_type": "code",
   "execution_count": 21,
   "metadata": {},
   "outputs": [
    {
     "data": {
      "text/plain": [
       "0    0.977\n",
       "1    0.023\n",
       "Name: is_negative, dtype: float64"
      ]
     },
     "execution_count": 21,
     "metadata": {},
     "output_type": "execute_result"
    }
   ],
   "source": [
    "df[df[df.columns[4]] == 'м']['is_negative'].value_counts(normalize=True).round(3)"
   ]
  },
  {
   "cell_type": "code",
   "execution_count": 22,
   "metadata": {},
   "outputs": [
    {
     "data": {
      "text/plain": [
       "0    0.982\n",
       "1    0.018\n",
       "Name: is_negative, dtype: float64"
      ]
     },
     "execution_count": 22,
     "metadata": {},
     "output_type": "execute_result"
    }
   ],
   "source": [
    "df[df[df.columns[4]] == 'ж']['is_negative'].value_counts(normalize=True).round(3)"
   ]
  },
  {
   "cell_type": "code",
   "execution_count": 23,
   "metadata": {},
   "outputs": [
    {
     "data": {
      "text/plain": [
       "0    3000\n",
       "1      70\n",
       "Name: is_negative, dtype: int64"
      ]
     },
     "execution_count": 23,
     "metadata": {},
     "output_type": "execute_result"
    }
   ],
   "source": [
    "df[df[df.columns[4]] == 'м']['is_negative'].value_counts()"
   ]
  },
  {
   "cell_type": "code",
   "execution_count": 24,
   "metadata": {},
   "outputs": [
    {
     "data": {
      "text/plain": [
       "0    6438\n",
       "1     116\n",
       "Name: is_negative, dtype: int64"
      ]
     },
     "execution_count": 24,
     "metadata": {},
     "output_type": "execute_result"
    }
   ],
   "source": [
    "df[df[df.columns[4]] == 'ж']['is_negative'].value_counts()"
   ]
  },
  {
   "cell_type": "code",
   "execution_count": 25,
   "metadata": {},
   "outputs": [
    {
     "data": {
      "text/plain": [
       "0.9543973941368078"
      ]
     },
     "execution_count": 25,
     "metadata": {},
     "output_type": "execute_result"
    }
   ],
   "source": [
    "df[df[df.columns[4]] == 'м']['is_negative'].value_counts(normalize=True)[0] - df[df[df.columns[4]] == 'м']['is_negative'].value_counts(normalize=True)[1]"
   ]
  },
  {
   "cell_type": "code",
   "execution_count": 26,
   "metadata": {},
   "outputs": [
    {
     "data": {
      "text/plain": [
       "0.9646017699115044"
      ]
     },
     "execution_count": 26,
     "metadata": {},
     "output_type": "execute_result"
    }
   ],
   "source": [
    "df[df[df.columns[4]] == 'ж']['is_negative'].value_counts(normalize=True)[0] - df[df[df.columns[4]] == 'ж']['is_negative'].value_counts(normalize=True)[1]"
   ]
  },
  {
   "cell_type": "code",
   "execution_count": 27,
   "metadata": {},
   "outputs": [
    {
     "data": {
      "text/plain": [
       "(-1.6945726870632591, 0.09015651201912227)"
      ]
     },
     "execution_count": 27,
     "metadata": {},
     "output_type": "execute_result"
    }
   ],
   "source": [
    "proportion.proportions_ztest(np.array([3000, 6438]), np.array([3000 + 70, 6438 + 116]), alternative='two-sided')"
   ]
  },
  {
   "cell_type": "code",
   "execution_count": 28,
   "metadata": {},
   "outputs": [
    {
     "name": "stdout",
     "output_type": "stream",
     "text": [
      "0.004\n"
     ]
    }
   ],
   "source": [
    "count = np.array([3721, 5717])\n",
    "nobs = np.array([3721 + 93, 5717 + 93])\n",
    "stat, pval = proportion.proportions_ztest(count, nobs)\n",
    "print('{0:0.3f}'.format(pval))"
   ]
  },
  {
   "cell_type": "code",
   "execution_count": null,
   "metadata": {},
   "outputs": [],
   "source": []
  },
  {
   "cell_type": "code",
   "execution_count": 31,
   "metadata": {},
   "outputs": [
    {
     "data": {
      "text/plain": [
       "<pandas.core.groupby.generic.DataFrameGroupBy object at 0x0000024FE79C3310>"
      ]
     },
     "execution_count": 31,
     "metadata": {},
     "output_type": "execute_result"
    }
   ],
   "source": [
    "df.groupby([df.columns[3], df.columns[4]]).mean().reset_index().groupby(df.columns[4])"
   ]
  },
  {
   "cell_type": "code",
   "execution_count": null,
   "metadata": {},
   "outputs": [],
   "source": []
  },
  {
   "cell_type": "code",
   "execution_count": 32,
   "metadata": {},
   "outputs": [],
   "source": [
    "def count_ngrams(series: pd.Series, n: int) -> pd.Series:\n",
    "    ngrams = series.copy().str.split(' ').explode()\n",
    "    for i in range(1, n):\n",
    "        ngrams += ' ' + ngrams.groupby(level=0).shift(-i)\n",
    "        ngrams = ngrams.dropna()\n",
    "    return ngrams.value_counts()    "
   ]
  },
  {
   "cell_type": "code",
   "execution_count": 33,
   "metadata": {},
   "outputs": [
    {
     "data": {
      "text/plain": [
       "False    9438\n",
       "True      186\n",
       "Name: Разметка отзыва (п - положительный, н - нейтральный, о - отрицательный), dtype: int64"
      ]
     },
     "execution_count": 33,
     "metadata": {},
     "output_type": "execute_result"
    }
   ],
   "source": [
    "(df[df.columns[1]] == 'о').value_counts()"
   ]
  },
  {
   "cell_type": "code",
   "execution_count": 34,
   "metadata": {},
   "outputs": [
    {
     "data": {
      "text/plain": [
       "п    8878\n",
       "н     559\n",
       "о     186\n",
       "Name: Разметка отзыва (п - положительный, н - нейтральный, о - отрицательный), dtype: int64"
      ]
     },
     "execution_count": 34,
     "metadata": {},
     "output_type": "execute_result"
    }
   ],
   "source": [
    "df[df.columns[1]].value_counts()"
   ]
  },
  {
   "cell_type": "code",
   "execution_count": 35,
   "metadata": {},
   "outputs": [
    {
     "data": {
      "text/plain": [
       "50.736559139784944"
      ]
     },
     "execution_count": 35,
     "metadata": {},
     "output_type": "execute_result"
    }
   ],
   "source": [
    "(8878 + 559) / 186"
   ]
  },
  {
   "cell_type": "code",
   "execution_count": 36,
   "metadata": {},
   "outputs": [],
   "source": [
    "# df.loc[df[df.columns[1]] == 'о', 'отзыв']"
   ]
  },
  {
   "cell_type": "code",
   "execution_count": 37,
   "metadata": {},
   "outputs": [],
   "source": [
    "# print(count_ngrams(df.loc[df[df.columns[1]] == 'о', 'отзыв'], 2).index[:500])"
   ]
  },
  {
   "cell_type": "code",
   "execution_count": null,
   "metadata": {},
   "outputs": [],
   "source": []
  },
  {
   "cell_type": "code",
   "execution_count": null,
   "metadata": {},
   "outputs": [],
   "source": []
  },
  {
   "cell_type": "code",
   "execution_count": 38,
   "metadata": {},
   "outputs": [],
   "source": [
    "# f = df['отзыв'][0]\n",
    "# print(f)"
   ]
  },
  {
   "cell_type": "markdown",
   "metadata": {},
   "source": [
    "как-то получше убрать знаки препинания, или вовсе переписать эту функцию."
   ]
  },
  {
   "cell_type": "code",
   "execution_count": 39,
   "metadata": {},
   "outputs": [],
   "source": [
    "def preprocess_text(texts):\n",
    "    russian_stopwords = stopwords.words(\"russian\")\n",
    "    mystem = Mystem() \n",
    "    lol = lambda lst, sz: [lst[i:i+sz] for i in range(0, len(lst), sz)]\n",
    "    txtpart = lol(texts, 1000)\n",
    "    res = []\n",
    "    for txtp in txtpart:\n",
    "        alltexts = ' '.join([txt + ' br ' for txt in txtp])\n",
    "\n",
    "        words = mystem.lemmatize(alltexts)\n",
    "        doc = []\n",
    "        for txt in words:\n",
    "            if txt != '\\n' and txt.strip() != ''\\\n",
    "            and txt not in russian_stopwords and all(i not in punctuation for i in txt) and len(txt) > 1 and not any(char.isdigit() for char in txt):\n",
    "                if txt == 'br':\n",
    "                    res.append(doc)\n",
    "                    doc = []\n",
    "                else:\n",
    "                    doc.append(txt)\n",
    "    return res"
   ]
  },
  {
   "cell_type": "code",
   "execution_count": null,
   "metadata": {},
   "outputs": [],
   "source": []
  },
  {
   "cell_type": "code",
   "execution_count": 40,
   "metadata": {},
   "outputs": [
    {
     "name": "stdout",
     "output_type": "stream",
     "text": [
      "Wall time: 37.2 s\n"
     ]
    }
   ],
   "source": [
    "%%time\n",
    "reviews_processed = preprocess_text(df['отзыв'])"
   ]
  },
  {
   "cell_type": "markdown",
   "metadata": {},
   "source": [
    "Сделать то же самое, но со школа, с ценой, с какими-то ещё характеристиками. В каком случае люди оказываются недовольными чаще."
   ]
  },
  {
   "cell_type": "code",
   "execution_count": 41,
   "metadata": {},
   "outputs": [],
   "source": [
    "# preprocess_text(df[df.columns[-2]][:20])"
   ]
  },
  {
   "cell_type": "code",
   "execution_count": 42,
   "metadata": {},
   "outputs": [],
   "source": [
    "def get_freq_words(sentiment, condition=None):\n",
    "    blank = []\n",
    "    if condition is not None:\n",
    "        [blank.extend(i) for i in pd.Series(reviews_processed)[(df[df.columns[1]] == sentiment) & condition]]\n",
    "    else:\n",
    "        [blank.extend(i) for i in pd.Series(reviews_processed)[df[df.columns[1]] == sentiment]]\n",
    "    return pd.Series(blank).value_counts(normalize=True)"
   ]
  },
  {
   "cell_type": "code",
   "execution_count": 43,
   "metadata": {},
   "outputs": [],
   "source": [
    "pos = get_freq_words('п')\n",
    "neg = get_freq_words('о')"
   ]
  },
  {
   "cell_type": "code",
   "execution_count": null,
   "metadata": {},
   "outputs": [],
   "source": []
  },
  {
   "cell_type": "code",
   "execution_count": 44,
   "metadata": {},
   "outputs": [],
   "source": [
    "pos_male = get_freq_words('п', df[df.columns[4]] == 'м')\n",
    "pos_female = get_freq_words('п', df[df.columns[4]] == 'ж')"
   ]
  },
  {
   "cell_type": "code",
   "execution_count": 45,
   "metadata": {},
   "outputs": [],
   "source": [
    "multi_freq_sex = {}\n",
    "for i in pos_female.index:\n",
    "    if i in pos_male.index:\n",
    "        multi_freq_sex[i] = pos_female[i] / pos_male[i]\n",
    "multi_freq_sex = pd.Series(multi_freq_sex).sort_values()"
   ]
  },
  {
   "cell_type": "code",
   "execution_count": 63,
   "metadata": {},
   "outputs": [
    {
     "name": "stdout",
     "output_type": "stream",
     "text": [
      "антон 461.9066\n",
      "андрей 275.4045\n",
      "евгений 243.5156\n",
      "олег 179.7377\n",
      "алексей 168.1417\n",
      "валерьевич 164.2764\n",
      "сергей 131.8076\n",
      "виталий 110.1618\n",
      "дмитрий 99.5322\n",
      "евгения 75.3739\n",
      "владимир 69.5759\n",
      "павел 61.8452\n",
      "роман 52.1819\n",
      "александр 24.4176\n",
      "ас 23.192\n",
      "гипноз 21.2593\n",
      "диплом 14.495\n",
      "давний 13.5286\n",
      "доктор 9.1111\n",
      "невроз 7.8917\n",
      "бессонница 7.2475\n",
      "жалоба 6.4422\n",
      "продвижение 6.3502\n",
      "мужской 6.2812\n",
      "диагноз 6.2275\n",
      "мак 5.798\n",
      "нестандартный 5.798\n",
      "метафорический 5.798\n",
      "симптом 5.5007\n",
      "лекарство 5.4115\n",
      "покидать 5.4115\n",
      "потенциал 5.3148\n",
      "волшебник 5.1538\n",
      "па 4.6706\n",
      "входить 4.5095\n",
      "лечение 4.2519\n",
      "окр 4.2519\n",
      "создаваться 3.8653\n",
      "уменьшаться 3.8653\n",
      "панический 3.8116\n",
      "атака 3.7086\n",
      "групповой 3.6896\n",
      "схема 3.6506\n",
      "улыбаться 3.5892\n",
      "программа 3.4512\n",
      "страдание 3.4358\n",
      "крутой 3.3822\n",
      "антидепрессант 3.3131\n",
      "обходиться 3.3131\n",
      "пять 3.3131\n",
      "привычный 3.3131\n",
      "пациент 3.2855\n",
      "врач 3.1625\n",
      "назначать 3.1406\n",
      "защита 3.1406\n",
      "руководство 3.1137\n",
      "пройти 3.037\n",
      "свежий 3.037\n",
      "заболевание 3.037\n",
      "психотерапевт 2.9763\n",
      "обучение 2.9733\n",
      "психотерапия 2.9697\n",
      "созависимость 2.899\n",
      "заметно 2.899\n",
      "однажды 2.899\n",
      "просыпаться 2.899\n",
      "психиатр 2.8111\n",
      "тревожный 2.7916\n",
      "кропотливый 2.7609\n",
      "гнев 2.7609\n",
      "пласт 2.7609\n",
      "дома 2.7057\n",
      "норма 2.6574\n",
      "тоннель 2.6574\n",
      "повторять 2.6574\n",
      "система 2.6574\n",
      "применение 2.6574\n",
      "навсегда 2.6355\n",
      "публикация 2.6355\n",
      "расстройство 2.6355\n",
      "волшебство 2.5769\n",
      "приезжать 2.5769\n",
      "идея 2.5209\n",
      "терять 2.5125\n",
      "сценарий 2.5011\n",
      "коллега 2.4849\n",
      "навык 2.4738\n",
      "примерно 2.4598\n",
      "паника 2.4413\n",
      "восстанавливать 2.4158\n",
      "талантливый 2.3874\n",
      "одновременно 2.3787\n",
      "широкий 2.3621\n",
      "юмор 2.3468\n",
      "карта 2.3291\n",
      "таблетка 2.3192\n",
      "прощаться 2.3192\n",
      "письменный 2.3192\n",
      "дышать 2.295\n",
      "ru 2.2841\n",
      "существовать 2.2737\n",
      "улучшение 2.2688\n",
      "подсознание 2.2548\n",
      "связанный 2.2548\n",
      "улыбка 2.23\n",
      "чат 2.23\n",
      "остальной 2.23\n",
      "наблюдать 2.23\n",
      "инструмент 2.2255\n",
      "демоконсультация 2.2088\n",
      "отец 2.1904\n",
      "ум 2.1847\n",
      "необычный 2.1742\n",
      "бороться 2.1742\n",
      "добавлять 2.16\n",
      "благополучие 2.16\n",
      "деятельность 2.16\n",
      "связывать 2.1557\n",
      "черта 2.1474\n",
      "проект 2.1474\n",
      "актуальный 2.1474\n",
      "удобно 2.1474\n",
      "упасть 2.1474\n",
      "расширять 2.1474\n",
      "получение 2.1474\n",
      "ясно 2.1416\n",
      "обратный 2.1361\n",
      "роль 2.1361\n",
      "терапевт 2.1326\n",
      "вполне 2.1259\n",
      "имя 2.1259\n",
      "уважительный 2.1259\n",
      "заслуга 2.1259\n",
      "редкий 2.1259\n",
      "разъяснять 2.1084\n",
      "затем 2.0937\n",
      "уставать 2.0813\n",
      "ясный 2.0574\n",
      "адекватный 2.04\n",
      "видение 2.04\n",
      "сотрудничество 2.0344\n",
      "число 2.0344\n",
      "прекрасно 2.0293\n",
      "предполагать 2.0293\n",
      "дом 2.0167\n",
      "деньги 1.981\n",
      "сессия 1.9537\n",
      "бонус 1.9327\n",
      "продвигаться 1.9327\n",
      "краска 1.9327\n",
      "нормальный 1.9327\n",
      "личностный 1.9327\n",
      "пожалуй 1.9327\n",
      "разница 1.9327\n",
      "доводить 1.9327\n",
      "привычка 1.9327\n",
      "попросить 1.9327\n",
      "далее 1.9327\n",
      "смерть 1.9327\n",
      "дыхание 1.9327\n",
      "страница 1.9327\n",
      "догадываться 1.9327\n",
      "оперативно 1.9327\n",
      "стратегия 1.9327\n",
      "отдельно 1.9327\n",
      "эмоциональный 1.9327\n",
      "несомненно 1.9327\n",
      "потребоваться 1.9327\n",
      "дверь 1.9327\n",
      "зайти 1.9327\n",
      "курс 1.9163\n",
      "лишний 1.9005\n",
      "напряжение 1.8583\n",
      "статья 1.8554\n",
      "однако 1.8521\n",
      "вебинар 1.8448\n",
      "крайне 1.8448\n",
      "час 1.8428\n",
      "отзываться 1.8406\n",
      "сталкиваться 1.836\n",
      "следующий 1.836\n",
      "неожиданно 1.8309\n",
      "кстати 1.8309\n",
      "неприятный 1.8309\n",
      "внешний 1.8119\n",
      "тревога 1.8066\n",
      "никак 1.7994\n",
      "основной 1.7978\n",
      "стыд 1.784\n",
      "фон 1.784\n",
      "мягкость 1.784\n",
      "избавляться 1.7817\n",
      "около 1.776\n",
      "познание 1.7716\n",
      "избавление 1.7716\n",
      "комфортный 1.7646\n",
      "круто 1.757\n",
      "волнение 1.757\n",
      "речь 1.757\n",
      "страдать 1.757\n",
      "придавать 1.757\n",
      "манера 1.757\n",
      "гибкость 1.757\n",
      "конкретно 1.7486\n",
      "форум 1.7441\n",
      "плюс 1.7394\n",
      "весьма 1.7394\n",
      "утро 1.7394\n",
      "прием 1.7327\n",
      "мучать 1.7292\n",
      "стиль 1.7179\n",
      "вызывать 1.7139\n",
      "существо 1.7053\n",
      "постоянный 1.7026\n",
      "убеждаться 1.7007\n",
      "жена 1.7007\n",
      "называть 1.7007\n",
      "борьба 1.6911\n",
      "рассчитывать 1.6911\n",
      "спать 1.6806\n",
      "всякий 1.675\n",
      "серьезно 1.675\n",
      "подробно 1.6691\n",
      "некий 1.6566\n",
      "различный 1.6566\n",
      "область 1.6484\n",
      "полноценный 1.6463\n",
      "метод 1.6448\n",
      "характер 1.6428\n",
      "услуга 1.6428\n",
      "терапевтический 1.6353\n",
      "восторг 1.6353\n",
      "почва 1.6353\n",
      "либо 1.6353\n",
      "мотив 1.6353\n",
      "осознанно 1.6353\n",
      "радостно 1.6353\n",
      "значительно 1.6275\n",
      "обнаруживать 1.6234\n",
      "настрой 1.6234\n",
      "очередной 1.6234\n",
      "физический 1.6106\n",
      "наоборот 1.6106\n",
      "критика 1.6106\n",
      "деталь 1.6106\n",
      "прохождение 1.6106\n",
      "позиция 1.5994\n",
      "классный 1.5875\n",
      "вода 1.5858\n",
      "использовать 1.5848\n",
      "обладать 1.5766\n",
      "свобода 1.5748\n",
      "ключ 1.5703\n",
      "достигать 1.561\n",
      "сеанс 1.5582\n",
      "творческий 1.5461\n",
      "прямой 1.5461\n",
      "изучать 1.5461\n",
      "наступать 1.5461\n",
      "поскольку 1.5461\n",
      "сопротивление 1.5461\n",
      "повторяться 1.5461\n",
      "негатив 1.5461\n",
      "механизм 1.5461\n",
      "истина 1.5461\n",
      "согласный 1.5461\n",
      "мастер 1.53\n",
      "приобретать 1.5258\n",
      "вырастать 1.5258\n",
      "тело 1.5227\n",
      "поток 1.5185\n",
      "евгеньевна 1.5185\n",
      "вчера 1.5148\n",
      "выявлять 1.5125\n",
      "ракурс 1.5125\n",
      "навязчивый 1.5125\n",
      "слеза 1.5099\n",
      "выходить 1.5066\n",
      "эффективно 1.5032\n",
      "впереди 1.5032\n",
      "искренность 1.5032\n",
      "познавательный 1.5032\n",
      "знание 1.5015\n",
      "написать 1.4957\n"
     ]
    }
   ],
   "source": [
    "min_in_male = 10\n",
    "min_multiplicator = 1.5\n",
    "with pd.option_context('display.max_rows', None, 'display.max_columns', None):  # more options can be specified also\n",
    "    for i in multi_freq_sex[:].index:\n",
    "        if pos_male[i] / pos_male.min() >= min_in_male:\n",
    "            print(i, (1 / multi_freq_sex[i]).round(4))\n",
    "        if 1 / multi_freq_sex[i] < min_multiplicator:\n",
    "            break"
   ]
  },
  {
   "cell_type": "code",
   "execution_count": 62,
   "metadata": {},
   "outputs": [
    {
     "name": "stdout",
     "output_type": "stream",
     "text": [
      "анна 54.46\n",
      "ольга 47.29\n",
      "александровна 14.83\n",
      "елена 13.51\n",
      "ирина 5.37\n",
      "александра 4.4\n",
      "налаживать 4.23\n",
      "дочь 3.79\n",
      "мечта 3.19\n",
      "учитель 3.1\n",
      "владимировна 2.97\n",
      "подруга 2.91\n",
      "ивановна 2.83\n",
      "переосмыслять 2.73\n",
      "праздник 2.67\n",
      "сюда 2.59\n",
      "сочувствие 2.48\n",
      "одиночество 2.46\n",
      "наталья 2.43\n",
      "спрашивать 2.41\n",
      "женщина 2.4\n",
      "обо 2.38\n",
      "прежде 2.37\n",
      "переживать 2.35\n",
      "разрыв 2.33\n",
      "период 2.32\n",
      "успешный 2.28\n",
      "влиять 2.24\n",
      "призвание 2.2\n",
      "предел 2.2\n",
      "грустно 2.2\n",
      "твой 2.18\n",
      "женский 2.18\n",
      "мимо 2.17\n",
      "расставлять 2.17\n",
      "нормально 2.14\n",
      "любовь 2.14\n",
      "марафон 2.13\n",
      "пересматривать 2.11\n",
      "вскрывать 2.07\n",
      "договариваться 2.07\n",
      "еда 2.07\n",
      "осуждение 2.07\n",
      "сопереживание 2.07\n",
      "мыслить 2.07\n",
      "родной 2.07\n",
      "хватать 2.07\n",
      "невероятный 2.02\n",
      "прислушиваться 2.02\n",
      "дочка 2.0\n",
      "здравствовать 2.0\n",
      "болеть 1.98\n",
      "рисунок 1.97\n",
      "гармоничный 1.97\n",
      "наверно 1.94\n",
      "вдохновение 1.94\n",
      "посылать 1.94\n",
      "наслаждаться 1.94\n",
      "заботливый 1.94\n",
      "озвучивать 1.94\n",
      "значительный 1.94\n",
      "путешествие 1.93\n",
      "великолепный 1.92\n",
      "прощать 1.91\n",
      "нелегкий 1.91\n",
      "задумываться 1.91\n",
      "мудрость 1.9\n",
      "открываться 1.89\n",
      "уверять 1.88\n",
      "злость 1.88\n",
      "вдохновлять 1.87\n",
      "трудно 1.87\n",
      "ответственный 1.86\n",
      " —  1.86\n",
      "запутываться 1.86\n",
      "нетерпение 1.86\n",
      " –  1.85\n",
      "позитив 1.83\n",
      "вид 1.83\n",
      "отзывчивость 1.83\n",
      "легкость 1.81\n",
      "развертывать 1.81\n",
      "условие 1.81\n",
      "затрагивать 1.81\n",
      "злиться 1.81\n",
      "скорректировать 1.81\n",
      "сочетание 1.81\n",
      "парень 1.81\n",
      "вовремя 1.81\n",
      "широко 1.81\n",
      "строить 1.79\n",
      "бесконечно 1.77\n",
      "проведение 1.76\n",
      "перемена 1.76\n",
      "значит 1.76\n",
      "многолетний 1.76\n",
      "намечать 1.76\n",
      "откладывать 1.76\n",
      "пользователь 1.75\n",
      "ребенок 1.75\n",
      "поддерживать 1.74\n",
      "доверяться 1.73\n",
      "мозги 1.72\n",
      "критический 1.72\n",
      "третий 1.72\n",
      "безмерно 1.72\n",
      "воспоминание 1.72\n",
      "пробовать 1.72\n",
      "прочувствовать 1.72\n",
      "камень 1.72\n",
      "школа 1.71\n",
      "закрывать 1.71\n",
      "признательность 1.71\n",
      "пища 1.71\n",
      "поверхность 1.7\n",
      "выполнение 1.7\n",
      "ценить 1.7\n",
      "сводить 1.68\n",
      "дарить 1.68\n",
      "понимающий 1.68\n",
      "воздух 1.68\n",
      "информативный 1.68\n",
      "цена 1.68\n",
      "наводящий 1.68\n",
      "внутрь 1.68\n",
      "фотография 1.68\n",
      "консультироваться 1.68\n",
      "анализировать 1.67\n",
      "встречать 1.67\n",
      "дорогой 1.67\n",
      "атмосфера 1.67\n",
      "изменяться 1.67\n",
      "тест 1.66\n",
      "разум 1.66\n",
      "гора 1.66\n",
      "перерыв 1.66\n",
      "улавливать 1.66\n",
      "окружение 1.66\n",
      "море 1.66\n",
      "автор 1.66\n",
      "текущий 1.66\n",
      "чуткость 1.65\n",
      "высококлассный 1.64\n",
      "депрессивный 1.64\n",
      "осуждать 1.64\n",
      "светлый 1.63\n",
      "радостный 1.63\n",
      "надежный 1.63\n",
      "поверять 1.62\n",
      "добиваться 1.61\n",
      "чутко 1.61\n",
      "захотеть 1.6\n",
      "сформулировать 1.6\n",
      "зависеть 1.59\n",
      "важно 1.58\n",
      "успокаиваться 1.58\n",
      "внимательность 1.58\n",
      "плохой 1.58\n",
      "обсуждать 1.58\n",
      "многое 1.56\n",
      "отчаяние 1.55\n",
      "тянуться 1.55\n",
      "временный 1.55\n",
      "болото 1.55\n",
      "частность 1.55\n",
      "подтверждение 1.55\n",
      "немало 1.55\n",
      "непривычный 1.55\n",
      "разложиться 1.55\n",
      "высоко 1.55\n",
      "прочтение 1.55\n",
      "волновать 1.55\n",
      "безопасно 1.55\n",
      "анкета 1.55\n",
      "чистый 1.55\n",
      "устраивать 1.55\n",
      "полагать 1.55\n",
      "близко 1.55\n",
      "уточнять 1.55\n",
      "тренинг 1.55\n",
      "доброта 1.55\n",
      "граница 1.55\n",
      "качество 1.55\n",
      "буква 1.55\n",
      "трудный 1.55\n",
      "поменять 1.55\n",
      "значить 1.55\n",
      "постоянно 1.53\n",
      "теплота 1.52\n",
      "познакомиться 1.52\n",
      "рядом 1.52\n",
      "непростой 1.52\n",
      "развод 1.52\n",
      "лично 1.51\n",
      "эмпатия 1.51\n",
      "обозначать 1.51\n",
      "кризис 1.5\n",
      "больно 1.49\n"
     ]
    }
   ],
   "source": [
    "min_in_male = 4\n",
    "min_multiplicator = 1.5\n",
    "with pd.option_context('display.max_rows', None, 'display.max_columns', None):  # more options can be specified also\n",
    "    for i in multi_freq_sex[::-1].index:\n",
    "        if pos_male[i] / pos_male.min() >= min_in_male:\n",
    "            print(i, (multi_freq_sex[i]).round(2))\n",
    "        if multi_freq_sex[i] < min_multiplicator:\n",
    "            break"
   ]
  },
  {
   "cell_type": "code",
   "execution_count": null,
   "metadata": {},
   "outputs": [],
   "source": []
  },
  {
   "cell_type": "code",
   "execution_count": 48,
   "metadata": {},
   "outputs": [],
   "source": [
    "# with pd.option_context('display.max_rows', None, 'display.max_columns', None):  # more options can be specified also\n",
    "#     print(pos[:20])"
   ]
  },
  {
   "cell_type": "code",
   "execution_count": 49,
   "metadata": {},
   "outputs": [],
   "source": [
    "# with pd.option_context('display.max_rows', None, 'display.max_columns', None):  # more options can be specified also\n",
    "#     print(neg[:20])"
   ]
  },
  {
   "cell_type": "code",
   "execution_count": 50,
   "metadata": {},
   "outputs": [],
   "source": [
    "multi_freq = {}\n",
    "for i in neg.index:\n",
    "    if i in pos.index:\n",
    "        multi_freq[i] = pos[i] / neg[i]\n",
    "multi_freq = pd.Series(multi_freq).sort_values()"
   ]
  },
  {
   "cell_type": "code",
   "execution_count": 60,
   "metadata": {},
   "outputs": [
    {
     "name": "stdout",
     "output_type": "stream",
     "text": [
      "оплата 192.1899\n",
      "хамство 153.7519\n",
      "оскорблять 153.7519\n",
      "осадок 96.0949\n",
      "грамм 76.876\n",
      "продемонстрировать 76.876\n",
      "недовольный 51.2506\n",
      "посчитать 51.2506\n",
      "бесполезный 38.438\n",
      "обидно 30.7504\n",
      "предупреждать 26.9066\n",
      "увы 25.6253\n",
      "исключать 25.6253\n",
      "привязанность 25.6253\n",
      "вероника 21.9646\n",
      "платный 19.9308\n",
      "оплачивать 19.219\n",
      "резко 19.219\n",
      "id 19.219\n",
      "обесценивать 17.0835\n",
      "неприятный 16.6218\n",
      "отрицательный 16.0158\n",
      "свидание 15.3752\n",
      "разочарование 14.9481\n",
      "условие 14.2363\n",
      "извинять 14.1614\n",
      "опускать 13.9774\n",
      "деньги 13.7617\n",
      "тратить 13.3697\n",
      "браться 12.8127\n",
      "бабушка 12.8127\n",
      "прекращать 12.8127\n",
      "отказываться 11.8271\n",
      "возвращать 11.8271\n",
      "тип 11.3053\n",
      "бежать 10.9823\n",
      "обижаться 10.9823\n",
      "сожаление 10.4332\n",
      "видимо 9.8841\n",
      "цена 9.0442\n",
      "брак 9.0442\n",
      "сутки 8.9689\n",
      "заявлять 8.5418\n",
      "нормально 8.5418\n",
      "попросить 8.2367\n",
      "диагноз 8.0922\n",
      "образование 7.9527\n",
      "завершение 7.6876\n",
      "виноватый 7.3215\n",
      "должно 7.3215\n",
      "тест 7.3215\n",
      "либо 7.2071\n",
      "никакой 7.0905\n",
      "бесплатный 7.0807\n",
      "состояться 6.9887\n",
      "занимать 6.9887\n",
      "соглашаться 6.9188\n",
      "далее 6.8639\n",
      "пустой 6.6849\n",
      "тянуть 6.6849\n",
      "предыдущий 6.4063\n",
      "вместо 6.1501\n",
      "затем 6.1501\n",
      "высказывать 5.9135\n",
      "слишком 5.9135\n",
      "удивляться 5.6945\n",
      "ставить 5.6055\n",
      "прием 5.591\n",
      "комментарий 5.4911\n",
      "таки 5.4911\n",
      "требоваться 5.4911\n",
      "учитывать 5.4911\n",
      "жаль 5.4138\n",
      "сравнивать 5.3018\n",
      "больной 5.3018\n",
      "прогресс 5.3018\n",
      "предлагать 5.2816\n",
      "спрашивать 5.2758\n",
      "переходить 5.2415\n",
      "заканчиваться 5.2119\n",
      "данный 4.9635\n",
      "странный 4.9597\n",
      "должный 4.9475\n",
      "отзыв 4.8442\n",
      "впечатление 4.7749\n",
      "психика 4.6876\n",
      "предполагать 4.6876\n",
      "окончание 4.6591\n",
      "сохранять 4.5221\n",
      "сходить 4.5221\n",
      "почитать 4.3929\n",
      "позиция 4.3515\n",
      "потратить 4.331\n",
      "брать 4.3243\n",
      "итог 4.2947\n",
      "единственный 4.2709\n",
      "попытка 4.2709\n",
      "плохо 4.2709\n",
      "изначально 4.2709\n",
      "закрывать 4.2158\n",
      "ничто 4.1932\n",
      "подобный 4.178\n",
      "услуга 4.1555\n",
      "грань 4.1555\n",
      "отсутствие 4.0891\n",
      "прощать 4.0891\n",
      "называть 4.0891\n",
      "очный 4.0626\n",
      "писать 4.0298\n",
      "просить 4.004\n",
      "прежде 3.9424\n",
      "редко 3.9424\n",
      "мать 3.9424\n",
      "посоветовать 3.8438\n",
      "использовать 3.8016\n",
      "рассказывать 3.744\n",
      "возможно 3.7113\n",
      "лишь 3.6608\n",
      "написать 3.58\n",
      "довольно 3.5403\n",
      "сессия 3.5321\n",
      "значит 3.4944\n",
      "услышать 3.4594\n",
      "следующий 3.4496\n",
      "заканчивать 3.4167\n",
      "тема 3.3948\n",
      "забывать 3.3633\n",
      "плохой 3.3218\n",
      "отвечать 3.3196\n",
      "взять 3.3092\n",
      "картина 3.2713\n",
      "однако 3.2713\n",
      "вид 3.2575\n",
      "пара 3.2032\n",
      "общий 3.1507\n",
      "мнение 3.1507\n",
      "вызывать 3.075\n",
      "кажется 3.075\n",
      "совершенно 3.0346\n",
      "психотерапевт 3.0266\n",
      "история 3.0147\n",
      "повод 2.9823\n",
      "считать 2.9568\n",
      "сайт 2.933\n",
      "прямо 2.912\n",
      "подруга 2.901\n",
      "доктор 2.8828\n",
      "хотя 2.8578\n",
      "пациент 2.8473\n",
      "профессия 2.8125\n",
      "психологический 2.7703\n",
      "разговор 2.7456\n",
      "книга 2.7456\n",
      "вообще 2.7456\n",
      "сей 2.7069\n",
      "сообщение 2.6974\n",
      "плюс 2.6974\n",
      "оставаться 2.6974\n",
      "приходиться 2.6509\n",
      "клиент 2.6477\n",
      "никто 2.6208\n",
      "фраза 2.606\n",
      "хватать 2.5625\n",
      "почему 2.5625\n",
      "психолог 2.5282\n",
      "часть 2.5146\n",
      "подумать 2.4888\n",
      "стоять 2.4799\n",
      "форум 2.464\n",
      "описывать 2.4024\n",
      "абсолютно 2.4024\n",
      "полный 2.3899\n",
      "советовать 2.3858\n",
      "обсуждать 2.3727\n",
      "терапия 2.3654\n",
      "случай 2.3232\n",
      "указывать 2.3155\n",
      "вести 2.2744\n",
      "читать 2.2611\n",
      "удивлять 2.2611\n",
      "скоро 2.2611\n",
      "минута 2.2464\n",
      "вернуть 2.2283\n",
      "равный 2.2283\n",
      "пойти 2.2237\n",
      "метод 2.2091\n",
      "негативный 2.2091\n",
      "знакомство 2.184\n",
      "сын 2.1554\n",
      "травма 2.1354\n",
      "проявлять 2.1354\n",
      "семейный 2.0966\n",
      "»  2.0777\n",
      "мало 2.0638\n",
      "час 2.0592\n",
      "ощущение 2.0555\n",
      "ответ 2.0555\n",
      "женщина 2.047\n",
      "сегодня 2.0364\n",
      "подходить 2.0231\n",
      "оставлять 2.0231\n",
      "слышать 2.0055\n",
      "сеанс 1.9951\n"
     ]
    }
   ],
   "source": [
    "min_in_neg = 4\n",
    "min_multiplicator = 2\n",
    "with pd.option_context('display.max_rows', None, 'display.max_columns', None):  # more options can be specified also\n",
    "    for i in multi_freq[:].index:\n",
    "        if neg[i] / neg.min() >= min_in_neg:\n",
    "            print(i, (1 / multi_freq[i]).round(4))\n",
    "        if 1 / multi_freq[i] < min_multiplicator:\n",
    "            break"
   ]
  },
  {
   "cell_type": "code",
   "execution_count": 52,
   "metadata": {},
   "outputs": [
    {
     "name": "stdout",
     "output_type": "stream",
     "text": [
      "общаться 1.8645\n",
      "разбираться 1.91\n",
      "помогать 1.9476\n",
      "решение 1.9772\n",
      "важный 1.9805\n",
      "увидеть 2.0206\n",
      "ситуация 2.0813\n",
      "полезный 2.1281\n",
      "оксана 2.2218\n",
      "каждый 2.233\n",
      "помощь 2.2576\n",
      "чувствовать 2.2605\n",
      "смочь 2.2699\n",
      "ваш 2.3109\n",
      "действительно 2.3154\n",
      "хороший 2.3507\n",
      "появляться 2.3622\n",
      "понимание 2.4758\n",
      "именно 2.5273\n",
      "очень 2.5305\n",
      "мысль 2.7403\n",
      "татьяна 2.919\n",
      "новый 3.8347\n",
      "поддержка 4.1018\n",
      "жизнь 4.5988\n",
      "большой 9.0089\n",
      "спасибо 19.0957\n"
     ]
    }
   ],
   "source": [
    "with pd.option_context('display.max_rows', None, 'display.max_columns', None):  # more options can be specified also\n",
    "#     print(multi_freq[:50])\n",
    "    for i in multi_freq[-200:].index:\n",
    "#         print(neg[i] / neg[i].min())\n",
    "        if neg[i] / neg.min() > 4:\n",
    "            print(i, multi_freq[i].round(4))"
   ]
  },
  {
   "cell_type": "code",
   "execution_count": 53,
   "metadata": {},
   "outputs": [
    {
     "name": "stdout",
     "output_type": "stream",
     "text": [
      "спокойно          6.217809\n",
      "проделывать       6.530000\n",
      "светлана          6.686095\n",
      "изменение         6.738127\n",
      "жизненный         6.764143\n",
      "людмила           6.842191\n",
      "многое            6.998287\n",
      "уверенность       7.050319\n",
      "андрей            7.466574\n",
      "владимировна      7.544621\n",
      "ценный            7.570637\n",
      "сергеевич         7.934860\n",
      "удаваться         8.169004\n",
      "сергей            9.001514\n",
      "большой           9.008947\n",
      "замечательный     9.235657\n",
      "грамотный         9.469801\n",
      "внимательный     10.172231\n",
      "легко            10.276295\n",
      "сила             10.380358\n",
      "главное          10.640518\n",
      "огромный         11.791723\n",
      "благодарить      12.799840\n",
      "профессионал     12.851872\n",
      "наталья          13.346175\n",
      "александр        14.542908\n",
      "благодаря        17.248565\n",
      "спасибо          19.095697\n",
      "благодарность    20.578605\n",
      "благодарный      27.915099\n",
      "dtype: float64\n"
     ]
    }
   ],
   "source": [
    "with pd.option_context('display.max_rows', None, 'display.max_columns', None):  # more options can be specified also\n",
    "    print(multi_freq[-30:])"
   ]
  },
  {
   "cell_type": "code",
   "execution_count": 54,
   "metadata": {},
   "outputs": [],
   "source": [
    "rev_neg = pd.Series(reviews_processed)[df[df.columns[1]] == 'о']\n",
    "rev_pos = pd.Series(reviews_processed)[df[df.columns[1]] == 'п']"
   ]
  },
  {
   "cell_type": "code",
   "execution_count": 55,
   "metadata": {},
   "outputs": [],
   "source": [
    "for i in rev_neg[rev_neg.apply(lambda x: 'н' in x)]:\n",
    "    print(' '.join(i))"
   ]
  },
  {
   "cell_type": "code",
   "execution_count": 61,
   "metadata": {},
   "outputs": [
    {
     "data": {
      "text/plain": [
       "4388    [ходить, алена, викторовна, очный, консультаци...\n",
       "4568    [замешательство, видеть, данный, специалист, в...\n",
       "6144    [позитиффффф, подход, часть, эмоция, просто, о...\n",
       "dtype: object"
      ]
     },
     "execution_count": 61,
     "metadata": {},
     "output_type": "execute_result"
    }
   ],
   "source": [
    "rev_neg[rev_neg.apply(lambda x: 'свидание' in x)]"
   ]
  },
  {
   "cell_type": "code",
   "execution_count": null,
   "metadata": {},
   "outputs": [],
   "source": []
  },
  {
   "cell_type": "code",
   "execution_count": 58,
   "metadata": {},
   "outputs": [],
   "source": [
    "# df.iloc[np.where(rev_neg.apply(lambda x: 'грамм' in x))[0], 'отзыв']"
   ]
  },
  {
   "cell_type": "code",
   "execution_count": null,
   "metadata": {},
   "outputs": [],
   "source": []
  },
  {
   "cell_type": "code",
   "execution_count": null,
   "metadata": {},
   "outputs": [],
   "source": []
  },
  {
   "cell_type": "code",
   "execution_count": null,
   "metadata": {},
   "outputs": [],
   "source": [
    "df['review_lem'] = [' '.join(i) for i in reviews_processed]"
   ]
  },
  {
   "cell_type": "code",
   "execution_count": null,
   "metadata": {},
   "outputs": [],
   "source": [
    "df['review_lem']"
   ]
  },
  {
   "cell_type": "code",
   "execution_count": null,
   "metadata": {},
   "outputs": [],
   "source": [
    "print(count_ngrams(df.loc[df[df.columns[1]] == 'п', 'review_lem'], 2).index[:50])"
   ]
  },
  {
   "cell_type": "code",
   "execution_count": null,
   "metadata": {},
   "outputs": [],
   "source": []
  },
  {
   "cell_type": "code",
   "execution_count": null,
   "metadata": {},
   "outputs": [],
   "source": [
    "reviews_processed[0]"
   ]
  },
  {
   "cell_type": "code",
   "execution_count": null,
   "metadata": {},
   "outputs": [],
   "source": [
    "from gensim.test.utils import common_texts\n",
    "from gensim.corpora.dictionary import Dictionary\n",
    "from gensim.models.ldamodel import LdaModel"
   ]
  },
  {
   "cell_type": "code",
   "execution_count": null,
   "metadata": {},
   "outputs": [],
   "source": [
    "common_dictionary = Dictionary(common_texts)\n",
    "common_corpus = [common_dictionary.doc2bow(text) for text in common_texts]"
   ]
  },
  {
   "cell_type": "code",
   "execution_count": null,
   "metadata": {},
   "outputs": [],
   "source": [
    "lda = LdaModel(common_corpus, num_topics=10)"
   ]
  },
  {
   "cell_type": "code",
   "execution_count": null,
   "metadata": {},
   "outputs": [],
   "source": [
    "lda.show_topics()"
   ]
  },
  {
   "cell_type": "code",
   "execution_count": null,
   "metadata": {},
   "outputs": [],
   "source": [
    "def elems_to_text(lists):\n",
    "    return [' '.join(i) for i in lists]"
   ]
  },
  {
   "cell_type": "code",
   "execution_count": null,
   "metadata": {},
   "outputs": [],
   "source": [
    "reviews_proc_text = elems_to_text(reviews_processed)"
   ]
  },
  {
   "cell_type": "code",
   "execution_count": null,
   "metadata": {},
   "outputs": [],
   "source": [
    "all_words = []\n",
    "for i in reviews_proc_text:\n",
    "    all_words.extend(word_tokenize(i))"
   ]
  },
  {
   "cell_type": "code",
   "execution_count": null,
   "metadata": {},
   "outputs": [],
   "source": [
    "pd.Series(all_words).value_counts()[:20].index"
   ]
  },
  {
   "cell_type": "code",
   "execution_count": null,
   "metadata": {},
   "outputs": [],
   "source": [
    "def plot_wordcloud(text, mask=None, max_words=400, max_font_size=120, figure_size=(24.0,16.0), \n",
    "                   title = None, title_size=40, image_color=False):\n",
    "    stopwords = set(STOPWORDS)\n",
    "    more_stopwords = {'one', 'br', 'Po', 'th', 'sayi', 'fo', 'Unknown', 'это'}\n",
    "    stopwords = stopwords.union(more_stopwords)\n",
    "\n",
    "    wordcloud = WordCloud(background_color='white',\n",
    "                    stopwords = stopwords,\n",
    "                    max_words = max_words,\n",
    "                    max_font_size = max_font_size, \n",
    "                    random_state = 42,\n",
    "                    mask = mask)\n",
    "    wordcloud.generate(text)\n",
    "    \n",
    "    plt.figure(figsize=figure_size)\n",
    "    if image_color:\n",
    "        image_colors = ImageColorGenerator(mask);\n",
    "        plt.imshow(wordcloud.recolor(color_func=image_colors), interpolation=\"bilinear\");\n",
    "        plt.title(title, fontdict={'size': title_size,  \n",
    "                                  'verticalalignment': 'bottom'})\n",
    "    else:\n",
    "        plt.imshow(wordcloud);\n",
    "        plt.title(title, fontdict={'size': title_size, 'color': 'green', \n",
    "                                  'verticalalignment': 'bottom'})\n",
    "    plt.axis('off');\n",
    "    plt.tight_layout()  \n",
    "    plt.savefig('hello.png', dpi=1000)\n",
    "d = './masks/'"
   ]
  },
  {
   "cell_type": "code",
   "execution_count": null,
   "metadata": {},
   "outputs": [],
   "source": [
    "comments_text = ' '.join(all_words)\n",
    "comments_mask = np.array(Image.open(d + 'psy.png'))\n",
    "plot_wordcloud(comments_text, comments_mask, max_words=400, max_font_size=120, \n",
    "               title = 'Most common words in all of the comments', title_size=50)"
   ]
  },
  {
   "cell_type": "code",
   "execution_count": null,
   "metadata": {},
   "outputs": [],
   "source": [
    "num_words = 10000\n",
    "oov_token = '<UNK>'\n",
    "pad_type = 'post'\n",
    "trunc_type = 'post'"
   ]
  },
  {
   "cell_type": "code",
   "execution_count": null,
   "metadata": {},
   "outputs": [],
   "source": [
    "tokenizer = Tokenizer(num_words=num_words, oov_token=oov_token)\n",
    "tokenizer.fit_on_texts(reviews_proc_text)"
   ]
  },
  {
   "cell_type": "code",
   "execution_count": null,
   "metadata": {},
   "outputs": [],
   "source": [
    "word_index = tokenizer.word_index"
   ]
  },
  {
   "cell_type": "code",
   "execution_count": null,
   "metadata": {},
   "outputs": [],
   "source": [
    "seq = tokenizer.texts_to_sequences(reviews_proc_text)"
   ]
  },
  {
   "cell_type": "code",
   "execution_count": null,
   "metadata": {},
   "outputs": [],
   "source": [
    "max_len = max([len(x) for x in seq])"
   ]
  },
  {
   "cell_type": "code",
   "execution_count": null,
   "metadata": {},
   "outputs": [],
   "source": [
    "max_len"
   ]
  },
  {
   "cell_type": "code",
   "execution_count": null,
   "metadata": {},
   "outputs": [],
   "source": [
    "# df['отзыв'].sort_values(key=lambda x: x.str.len(), ascending=False).reset_index(drop=True)[0]\n",
    "# самый длинный отзыв по элементам"
   ]
  },
  {
   "cell_type": "code",
   "execution_count": null,
   "metadata": {},
   "outputs": [],
   "source": [
    "seq_padded = pad_sequences(seq, maxlen=max_len, padding=pad_type, truncating=trunc_type)"
   ]
  },
  {
   "cell_type": "code",
   "execution_count": null,
   "metadata": {},
   "outputs": [],
   "source": [
    "seq_padded.shape"
   ]
  },
  {
   "cell_type": "code",
   "execution_count": null,
   "metadata": {},
   "outputs": [],
   "source": [
    "# print(\"Word index:\\n\", word_index)\n",
    "# print(\"\\nTraining sequences:\\n\", train_sequences)\n",
    "# print(\"\\nPadded training sequences:\\n\", train_padded)\n",
    "# print(\"\\nPadded training shape:\", train_padded.shape)\n",
    "print(\"Training sequences data type:\", type(seq))\n",
    "print(\"Padded Training sequences data type:\", type(seq_padded))"
   ]
  },
  {
   "cell_type": "code",
   "execution_count": null,
   "metadata": {},
   "outputs": [],
   "source": [
    "tokenizer.sequences_to_texts(seq)[:5]"
   ]
  },
  {
   "cell_type": "code",
   "execution_count": null,
   "metadata": {},
   "outputs": [],
   "source": []
  },
  {
   "cell_type": "code",
   "execution_count": null,
   "metadata": {},
   "outputs": [],
   "source": []
  },
  {
   "cell_type": "code",
   "execution_count": null,
   "metadata": {},
   "outputs": [],
   "source": [
    "df['отзыв'].isna().sum()"
   ]
  },
  {
   "cell_type": "code",
   "execution_count": null,
   "metadata": {},
   "outputs": [],
   "source": [
    "all_reviews = df['отзыв'].copy()\n",
    "left_reviews = all_reviews.copy()\n",
    "left_indices = list(left_reviews.index)\n",
    "labels = {}"
   ]
  },
  {
   "cell_type": "code",
   "execution_count": null,
   "metadata": {},
   "outputs": [],
   "source": [
    "for i in random.choices(left_indices, k=3):\n",
    "    print(left_reviews[i])\n",
    "    left_indices.remove(i)\n",
    "    label = input('label it please')\n",
    "    labels[i] = label"
   ]
  },
  {
   "cell_type": "code",
   "execution_count": null,
   "metadata": {},
   "outputs": [],
   "source": [
    "# labels"
   ]
  },
  {
   "cell_type": "code",
   "execution_count": null,
   "metadata": {},
   "outputs": [],
   "source": [
    "len(left_indices)"
   ]
  },
  {
   "cell_type": "code",
   "execution_count": null,
   "metadata": {},
   "outputs": [],
   "source": []
  },
  {
   "cell_type": "code",
   "execution_count": null,
   "metadata": {},
   "outputs": [],
   "source": [
    "# labels"
   ]
  },
  {
   "cell_type": "code",
   "execution_count": null,
   "metadata": {},
   "outputs": [],
   "source": [
    "seq_padded.shape"
   ]
  },
  {
   "cell_type": "code",
   "execution_count": null,
   "metadata": {},
   "outputs": [],
   "source": [
    "# list(labels.keys())"
   ]
  },
  {
   "cell_type": "code",
   "execution_count": null,
   "metadata": {},
   "outputs": [],
   "source": [
    "pd.get_dummies(list(labels.values())).to_numpy()"
   ]
  },
  {
   "cell_type": "code",
   "execution_count": null,
   "metadata": {},
   "outputs": [],
   "source": [
    "from sklearn.preprocessing import OneHotEncoder"
   ]
  },
  {
   "cell_type": "code",
   "execution_count": null,
   "metadata": {},
   "outputs": [],
   "source": [
    "X = np.asarray(seq_padded[list(labels.keys()), :])\n",
    "y = np.asarray(pd.get_dummies(list(labels.values())).to_numpy())"
   ]
  },
  {
   "cell_type": "code",
   "execution_count": null,
   "metadata": {},
   "outputs": [],
   "source": [
    "embedding_vector_length = 32\n",
    "model = Sequential()\n",
    "emb = layers.Embedding(num_words, embedding_vector_length, input_length=max_len)\n",
    "model.add(emb)\n",
    "model.add(layers.Flatten())\n",
    "model.add(layers.Dense(16, activation='elu'))\n",
    "model.add(layers.Dropout(0.1))\n",
    "model.add(layers.Dense(16, activation='elu'))\n",
    "model.add(layers.Dropout(0.1))\n",
    "model.add(layers.Dense(3, activation='softmax'))\n",
    "model.compile(loss=tf.keras.losses.CategoricalCrossentropy(), optimizer='adam', metrics=['accuracy'])\n",
    "print(model.summary())"
   ]
  },
  {
   "cell_type": "code",
   "execution_count": null,
   "metadata": {},
   "outputs": [],
   "source": [
    "model.fit(X, y)"
   ]
  },
  {
   "cell_type": "code",
   "execution_count": null,
   "metadata": {},
   "outputs": [],
   "source": [
    "probas = model.predict_proba(seq_padded)"
   ]
  },
  {
   "cell_type": "code",
   "execution_count": null,
   "metadata": {},
   "outputs": [],
   "source": [
    "plt.hist(probas[:, 0])"
   ]
  },
  {
   "cell_type": "code",
   "execution_count": null,
   "metadata": {},
   "outputs": [],
   "source": []
  }
 ],
 "metadata": {
  "kernelspec": {
   "display_name": "Python 3",
   "language": "python",
   "name": "python3"
  },
  "language_info": {
   "codemirror_mode": {
    "name": "ipython",
    "version": 3
   },
   "file_extension": ".py",
   "mimetype": "text/x-python",
   "name": "python",
   "nbconvert_exporter": "python",
   "pygments_lexer": "ipython3",
   "version": "3.8.8"
  }
 },
 "nbformat": 4,
 "nbformat_minor": 4
}
