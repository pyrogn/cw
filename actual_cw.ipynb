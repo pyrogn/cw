{
 "cells": [
  {
   "cell_type": "markdown",
   "metadata": {},
   "source": [
    "# Курсовая. Эмпирическая часть"
   ]
  },
  {
   "cell_type": "markdown",
   "metadata": {},
   "source": [
    "### Здесь приведены все операции, который я выполнял, чтобы получить результаты, приведённые в документе. Я также применял анализ отзывов по темам с помощью LDA, но он не дал осмысленных результатов."
   ]
  },
  {
   "cell_type": "markdown",
   "metadata": {},
   "source": [
    "Импортируем необходимые библиотеки"
   ]
  },
  {
   "cell_type": "code",
   "execution_count": 1,
   "metadata": {},
   "outputs": [],
   "source": [
    "import numpy as np\n",
    "import pandas as pd\n",
    "from tqdm import tqdm\n",
    "import random\n",
    "from scipy import stats\n",
    "from statsmodels.stats import proportion"
   ]
  },
  {
   "cell_type": "code",
   "execution_count": 2,
   "metadata": {},
   "outputs": [],
   "source": [
    "import nltk\n",
    "from nltk.tokenize import sent_tokenize, word_tokenize\n",
    "from nltk.stem.snowball import SnowballStemmer\n",
    "from nltk.corpus import stopwords\n",
    "from pymystem3 import Mystem\n",
    "from string import punctuation"
   ]
  },
  {
   "cell_type": "code",
   "execution_count": 3,
   "metadata": {},
   "outputs": [],
   "source": [
    "import matplotlib as mpl\n",
    "import matplotlib.pyplot as plt\n",
    "%matplotlib inline\n",
    "\n",
    "from PIL import Image\n",
    "from wordcloud import WordCloud, STOPWORDS, ImageColorGenerator\n",
    "\n",
    "import warnings \n",
    "warnings.filterwarnings('ignore')"
   ]
  },
  {
   "cell_type": "code",
   "execution_count": 5,
   "metadata": {},
   "outputs": [],
   "source": [
    "df = pd.read_excel('finalAll.xlsx')"
   ]
  },
  {
   "cell_type": "code",
   "execution_count": 6,
   "metadata": {},
   "outputs": [
    {
     "name": "stdout",
     "output_type": "stream",
     "text": [
      "<class 'pandas.core.frame.DataFrame'>\n",
      "RangeIndex: 9624 entries, 0 to 9623\n",
      "Data columns (total 21 columns):\n",
      " #   Column                                                                        Non-Null Count  Dtype  \n",
      "---  ------                                                                        --------------  -----  \n",
      " 0   отзыв                                                                         9624 non-null   object \n",
      " 1   Разметка отзыва (п - положительный, н - нейтральный, о - отрицательный)       9623 non-null   object \n",
      " 2   ответ психолога на отзыв                                                      5229 non-null   object \n",
      " 3   ссылка на профиль\n",
      "                                                            9624 non-null   object \n",
      " 4   пол (м или ж)                                                                 9624 non-null   object \n",
      " 5   возраст                                                                       8355 non-null   float64\n",
      " 6   опыт работы психологом (количество лет, число)                                8045 non-null   float64\n",
      " 7   Город                                                                         9571 non-null   object \n",
      " 8   Количество публикаций на b17                                                  9474 non-null   float64\n",
      " 9   Количество отзывов                                                            9624 non-null   int64  \n",
      " 10  Количество обратившихся                                                       9335 non-null   float64\n",
      " 11  количество онлайн-консультаций (число)                                        9396 non-null   float64\n",
      " 12  Высшее психологическое образование, вуз, специальность, квалификация(да\\нет)  9367 non-null   object \n",
      " 13  год окончания психологического образования                                    8869 non-null   object \n",
      " 14  количество курсов повышения квалификации (число)                              9595 non-null   object \n",
      " 15  Названия курсов повышения квалификации (через точку с запятой)                8903 non-null   object \n",
      " 16  Было ли высшее образование до психологического (ДА/нет)                       9431 non-null   object \n",
      " 17  стоимость одной очной консультации (в рублях)                                 9536 non-null   float64\n",
      " 18  Проблемы с которыми работает (текст, через точку с запятой)                   9285 non-null   object \n",
      " 19  Психологические школы (текст, через точку с запятой)                          9384 non-null   object \n",
      " 20  Полный текст самопрезентации психолога                                        9624 non-null   object \n",
      "dtypes: float64(6), int64(1), object(14)\n",
      "memory usage: 1.5+ MB\n"
     ]
    }
   ],
   "source": [
    "df.info()"
   ]
  },
  {
   "cell_type": "markdown",
   "metadata": {},
   "source": [
    "Преобразуем в числа стоимость консультации"
   ]
  },
  {
   "cell_type": "code",
   "execution_count": 7,
   "metadata": {},
   "outputs": [],
   "source": [
    "df[df.columns[17]] = pd.to_numeric(df[df.columns[17]])"
   ]
  },
  {
   "cell_type": "markdown",
   "metadata": {},
   "source": [
    "Найдём связь между ценой и долей негативных отзывов"
   ]
  },
  {
   "cell_type": "code",
   "execution_count": 8,
   "metadata": {},
   "outputs": [],
   "source": [
    "df['is_negative'] = df[df.columns[1]].apply(lambda x: 1 if x == 'о' else 0)"
   ]
  },
  {
   "cell_type": "code",
   "execution_count": 9,
   "metadata": {},
   "outputs": [],
   "source": [
    "id_negative_age = df.groupby(df.columns[3]).mean()[[df.columns[17], 'is_negative']].dropna()"
   ]
  },
  {
   "cell_type": "code",
   "execution_count": 10,
   "metadata": {},
   "outputs": [
    {
     "name": "stdout",
     "output_type": "stream",
     "text": [
      "Correlation between price and proportion of negative reviews\n",
      "r Pearson = 0.125, p-value = 0.033\n"
     ]
    }
   ],
   "source": [
    "res = stats.pearsonr(id_negative_age.iloc[:, 0], id_negative_age.iloc[:, 1])\n",
    "print(f'Correlation between price and proportion of negative reviews\\nr Pearson = {res[0]:.3f}, p-value = {res[1]:.3f}')"
   ]
  },
  {
   "cell_type": "markdown",
   "metadata": {},
   "source": [
    "Но не было найдено аналогичной связи между долей негативных отзывов и (возрастом, опытом работы)"
   ]
  },
  {
   "cell_type": "markdown",
   "metadata": {},
   "source": [
    "Распределение психологов по полу в абсолютных значениях и в процентах"
   ]
  },
  {
   "cell_type": "code",
   "execution_count": 11,
   "metadata": {},
   "outputs": [
    {
     "data": {
      "text/plain": [
       "ж    214\n",
       "м     86\n",
       "Name: пол (м или ж), dtype: int64"
      ]
     },
     "execution_count": 11,
     "metadata": {},
     "output_type": "execute_result"
    }
   ],
   "source": [
    "sex_psychologists = df.groupby([df.columns[3], df.columns[4]]).mean().reset_index()[df.columns[4]]\n",
    "sex_psychologists.value_counts()"
   ]
  },
  {
   "cell_type": "code",
   "execution_count": 12,
   "metadata": {},
   "outputs": [
    {
     "data": {
      "text/plain": [
       "ж    0.71\n",
       "м    0.29\n",
       "Name: пол (м или ж), dtype: float64"
      ]
     },
     "execution_count": 12,
     "metadata": {},
     "output_type": "execute_result"
    }
   ],
   "source": [
    "sex_psychologists.value_counts(normalize=True).round(2)"
   ]
  },
  {
   "cell_type": "markdown",
   "metadata": {},
   "source": [
    "Ниже процентное и абсолютное соотношение негативных отзывов, где 1 - негативные отзывы."
   ]
  },
  {
   "cell_type": "markdown",
   "metadata": {},
   "source": [
    "Психологи мужского пола"
   ]
  },
  {
   "cell_type": "code",
   "execution_count": 13,
   "metadata": {},
   "outputs": [
    {
     "data": {
      "text/plain": [
       "0    0.977\n",
       "1    0.023\n",
       "Name: is_negative, dtype: float64"
      ]
     },
     "execution_count": 13,
     "metadata": {},
     "output_type": "execute_result"
    }
   ],
   "source": [
    "male_psychologists = df[df[df.columns[4]] == 'м']['is_negative']\n",
    "male_psychologists.value_counts(normalize=True).round(3)"
   ]
  },
  {
   "cell_type": "code",
   "execution_count": 14,
   "metadata": {},
   "outputs": [
    {
     "data": {
      "text/plain": [
       "0    3000\n",
       "1      70\n",
       "Name: is_negative, dtype: int64"
      ]
     },
     "execution_count": 14,
     "metadata": {},
     "output_type": "execute_result"
    }
   ],
   "source": [
    "male_psychologists.value_counts()"
   ]
  },
  {
   "cell_type": "markdown",
   "metadata": {},
   "source": [
    "Психологи женского пола"
   ]
  },
  {
   "cell_type": "code",
   "execution_count": 15,
   "metadata": {},
   "outputs": [
    {
     "data": {
      "text/plain": [
       "0    0.982\n",
       "1    0.018\n",
       "Name: is_negative, dtype: float64"
      ]
     },
     "execution_count": 15,
     "metadata": {},
     "output_type": "execute_result"
    }
   ],
   "source": [
    "female_psychologists = df[df[df.columns[4]] == 'ж']['is_negative']\n",
    "female_psychologists.value_counts(normalize=True).round(3)"
   ]
  },
  {
   "cell_type": "code",
   "execution_count": 16,
   "metadata": {},
   "outputs": [
    {
     "data": {
      "text/plain": [
       "0    6438\n",
       "1     116\n",
       "Name: is_negative, dtype: int64"
      ]
     },
     "execution_count": 16,
     "metadata": {},
     "output_type": "execute_result"
    }
   ],
   "source": [
    "female_psychologists.value_counts()"
   ]
  },
  {
   "cell_type": "markdown",
   "metadata": {},
   "source": [
    "Видим разницу в соотношении отзывов, но она небольшая (.023 vs .018), поэтому даже не стоит рассматривать статистические тесты."
   ]
  },
  {
   "cell_type": "code",
   "execution_count": 17,
   "metadata": {},
   "outputs": [],
   "source": [
    "# proportion.proportions_ztest(np.array([3000, 6438]), np.array([3000 + 70, 6438 + 116]), alternative='two-sided')"
   ]
  },
  {
   "cell_type": "markdown",
   "metadata": {},
   "source": [
    " "
   ]
  },
  {
   "cell_type": "markdown",
   "metadata": {},
   "source": [
    "Соотношение отзывов без деления по полу психолога"
   ]
  },
  {
   "cell_type": "code",
   "execution_count": 18,
   "metadata": {},
   "outputs": [
    {
     "data": {
      "text/plain": [
       "False    9438\n",
       "True      186\n",
       "Name: Разметка отзыва (п - положительный, н - нейтральный, о - отрицательный), dtype: int64"
      ]
     },
     "execution_count": 18,
     "metadata": {},
     "output_type": "execute_result"
    }
   ],
   "source": [
    "(df[df.columns[1]] == 'о').value_counts()"
   ]
  },
  {
   "cell_type": "code",
   "execution_count": 19,
   "metadata": {},
   "outputs": [
    {
     "data": {
      "text/plain": [
       "п    8878\n",
       "н     559\n",
       "о     186\n",
       "Name: Разметка отзыва (п - положительный, н - нейтральный, о - отрицательный), dtype: int64"
      ]
     },
     "execution_count": 19,
     "metadata": {},
     "output_type": "execute_result"
    }
   ],
   "source": [
    "df[df.columns[1]].value_counts()"
   ]
  },
  {
   "cell_type": "markdown",
   "metadata": {},
   "source": [
    "На ~51 положительный или нейтральный отзыв приходится один отрицательный"
   ]
  },
  {
   "cell_type": "code",
   "execution_count": 20,
   "metadata": {},
   "outputs": [
    {
     "data": {
      "text/plain": [
       "50.736559139784944"
      ]
     },
     "execution_count": 20,
     "metadata": {},
     "output_type": "execute_result"
    }
   ],
   "source": [
    "(8878 + 559) / 186"
   ]
  },
  {
   "cell_type": "markdown",
   "metadata": {},
   "source": [
    "Функция процессинга текста имеет такой вид, так как под windows лемматизация при помощи pymystem3 выполняется неадекватно долго и необходимы обходные пути, чтобы ускорить функцию, оставив прежний функционал."
   ]
  },
  {
   "cell_type": "code",
   "execution_count": 21,
   "metadata": {},
   "outputs": [],
   "source": [
    "def preprocess_text(texts):\n",
    "    russian_stopwords = stopwords.words(\"russian\")\n",
    "    mystem = Mystem() \n",
    "    lol = lambda lst, sz: [lst[i:i+sz] for i in range(0, len(lst), sz)]\n",
    "    txtpart = lol(texts, 1000)\n",
    "    res = []\n",
    "    for txtp in txtpart:\n",
    "        alltexts = ' '.join([txt + ' br ' for txt in txtp])\n",
    "\n",
    "        words = mystem.lemmatize(alltexts)\n",
    "        doc = []\n",
    "        for txt in words:\n",
    "            if txt != '\\n' and txt.strip() != ''\\\n",
    "            and txt not in russian_stopwords and all(i not in punctuation for i in txt) and len(txt.strip()) > 1 and not any(char.isdigit() for char in txt):\n",
    "                if txt == 'br':\n",
    "                    res.append(doc)\n",
    "                    doc = []\n",
    "                else:\n",
    "                    doc.append(txt)\n",
    "    return res"
   ]
  },
  {
   "cell_type": "code",
   "execution_count": 22,
   "metadata": {},
   "outputs": [
    {
     "name": "stdout",
     "output_type": "stream",
     "text": [
      "Wall time: 36.3 s\n"
     ]
    }
   ],
   "source": [
    "%%time\n",
    "reviews_processed = preprocess_text(df['отзыв'])"
   ]
  },
  {
   "cell_type": "code",
   "execution_count": 23,
   "metadata": {},
   "outputs": [],
   "source": [
    "def get_freq_words(reviews_processed, sentiment, condition=None):\n",
    "    \"\"\"\n",
    "    Функция принимает таблицу с почищенными отзывами, тип отзыва и опционально дополнительное условие.\n",
    "    Выводит отсортированные частоты слов в формате pd.Series\"\"\"\n",
    "    list_words = []\n",
    "    if condition is not None:\n",
    "        [list_words.extend(i) for i in pd.Series(reviews_processed)[(df[df.columns[1]] == sentiment) & condition]]\n",
    "    else:\n",
    "        [list_words.extend(i) for i in pd.Series(reviews_processed)[df[df.columns[1]] == sentiment]]\n",
    "    return pd.Series(list_words).value_counts(normalize=True)"
   ]
  },
  {
   "cell_type": "markdown",
   "metadata": {},
   "source": [
    "Ниже нахожу частоты слов в отрицательных и положительных отзывах"
   ]
  },
  {
   "cell_type": "code",
   "execution_count": 24,
   "metadata": {},
   "outputs": [],
   "source": [
    "pos = get_freq_words(reviews_processed, 'п')\n",
    "neg = get_freq_words(reviews_processed, 'о')"
   ]
  },
  {
   "cell_type": "markdown",
   "metadata": {},
   "source": [
    "Нахожу частоты положительных отзывов у психологов в зависимости от пола"
   ]
  },
  {
   "cell_type": "code",
   "execution_count": 25,
   "metadata": {},
   "outputs": [],
   "source": [
    "pos_male = get_freq_words(reviews_processed, 'п', df[df.columns[4]] == 'м')\n",
    "pos_female = get_freq_words(reviews_processed, 'п', df[df.columns[4]] == 'ж')"
   ]
  },
  {
   "cell_type": "markdown",
   "metadata": {},
   "source": [
    "Ниже цикл находит слова, которые встречаются у психологов обоих полов. И записывает у этого слова соотношение частот (== шансы)."
   ]
  },
  {
   "cell_type": "code",
   "execution_count": 26,
   "metadata": {},
   "outputs": [],
   "source": [
    "def get_odds(first_freq, second_freq):\n",
    "    \"\"\"Получаем шансы слова оказаться в первом словаре. Выводим отсортированные значения в формате pd.Series\"\"\"\n",
    "    dict_odds = {}\n",
    "    for i in first_freq.index:\n",
    "        if i in second_freq.index:\n",
    "            dict_odds[i] = first_freq[i] / second_freq[i]\n",
    "    return pd.Series(dict_odds).sort_values()"
   ]
  },
  {
   "cell_type": "markdown",
   "metadata": {},
   "source": [
    "Находим шансы, записываем в словарь и выводим в текстовый файл"
   ]
  },
  {
   "cell_type": "code",
   "execution_count": 27,
   "metadata": {},
   "outputs": [],
   "source": [
    "def return_limited_odds(odds_dict, second_dict, min_in_second=5, min_multiplicator=2, reverse=False):\n",
    "    \"\"\"Главная цель функции - перевернуть шансы и ограничить длинный список некоторыми параметрами, а именно:\n",
    "    минимальным значением шанса и минимальным кол-вом во втором словаре.\n",
    "    При reverse==False будут первыми выходить шансы второго словаря\"\"\"\n",
    "    dict_out = {}\n",
    "#     Можем перевернуть порядок и все значения, чтобы шансы лучше воспринимались на глаз\n",
    "    if reverse == True:\n",
    "        odds_dict = odds_dict.iloc[::-1]\n",
    "        odds_dict = 1 / odds_dict\n",
    "    for i in odds_dict.index:\n",
    "        odds = 1 / odds_dict[i]\n",
    "        if odds < min_multiplicator:\n",
    "#         прерываем цикл, если встретилось слово с шансами, ниже указанного\n",
    "            break\n",
    "        if second_dict[i] / second_dict.min() >= min_in_second:\n",
    "            dict_out[i] = (odds).round(2)\n",
    "    return dict_out"
   ]
  },
  {
   "cell_type": "code",
   "execution_count": 28,
   "metadata": {},
   "outputs": [],
   "source": [
    "def save_dict_txt(filename, odds_dict):\n",
    "    \"\"\"Сохраняем полученный словарик в чистый текстовый файл. Слева слово, справа - шанс\"\"\"\n",
    "    with open(filename, 'w') as f:\n",
    "        for k, v in odds_dict.items():\n",
    "            f.write(str(k) + ' '+ str(v) + '\\n')"
   ]
  },
  {
   "cell_type": "code",
   "execution_count": 29,
   "metadata": {},
   "outputs": [],
   "source": [
    "multi_freq_sex = get_odds(pos_female, pos_male)"
   ]
  },
  {
   "cell_type": "code",
   "execution_count": 30,
   "metadata": {},
   "outputs": [],
   "source": [
    "odds_female_pos = return_limited_odds(multi_freq_sex, pos_male, min_in_second=5, min_multiplicator=1.5, reverse=True)\n",
    "odds_male_pos = return_limited_odds(multi_freq_sex, pos_male, min_in_second=5, min_multiplicator=2, reverse=False)"
   ]
  },
  {
   "cell_type": "code",
   "execution_count": 31,
   "metadata": {},
   "outputs": [],
   "source": [
    "save_dict_txt('txt_out/female_pos_psychologists.txt', odds_female_pos)\n",
    "save_dict_txt('txt_out/male_pos_psychologists.txt', odds_male_pos)"
   ]
  },
  {
   "cell_type": "markdown",
   "metadata": {},
   "source": [
    "Далее операции аналогичные, но находим шансы слов уже между отрицательными и положительными отзывами"
   ]
  },
  {
   "cell_type": "code",
   "execution_count": 32,
   "metadata": {},
   "outputs": [],
   "source": [
    "odds_neg_pos = get_odds(pos, neg)"
   ]
  },
  {
   "cell_type": "code",
   "execution_count": 33,
   "metadata": {},
   "outputs": [],
   "source": [
    "odds_pos = return_limited_odds(odds_neg_pos, neg, min_in_second=5, min_multiplicator=1.3, reverse=True)\n",
    "odds_neg = return_limited_odds(odds_neg_pos, neg, min_in_second=2, min_multiplicator=2, reverse=False)"
   ]
  },
  {
   "cell_type": "code",
   "execution_count": 34,
   "metadata": {},
   "outputs": [],
   "source": [
    "save_dict_txt('txt_out/pos_psychologists.txt', odds_pos)\n",
    "save_dict_txt('txt_out/neg_psychologists.txt', odds_neg)"
   ]
  },
  {
   "cell_type": "markdown",
   "metadata": {},
   "source": [
    "Не очень удобно, но оригинальные отзывы можно прямо здесь почитать."
   ]
  },
  {
   "cell_type": "code",
   "execution_count": 35,
   "metadata": {},
   "outputs": [],
   "source": [
    "rev_neg = pd.Series(reviews_processed)[df[df.columns[1]] == 'о']\n",
    "rev_pos = pd.Series(reviews_processed)[df[df.columns[1]] == 'п']"
   ]
  },
  {
   "cell_type": "code",
   "execution_count": 36,
   "metadata": {},
   "outputs": [
    {
     "data": {
      "text/plain": [
       "17      [здравствовать, оксана, впечатление, работа, о...\n",
       "9103    [древность, человек, верить, земля, держаться,...\n",
       "dtype: object"
      ]
     },
     "execution_count": 36,
     "metadata": {},
     "output_type": "execute_result"
    }
   ],
   "source": [
    "rev_pos[rev_pos.apply(lambda x: 'черепаха' in x)]"
   ]
  },
  {
   "cell_type": "code",
   "execution_count": 37,
   "metadata": {},
   "outputs": [
    {
     "name": "stdout",
     "output_type": "stream",
     "text": [
      "17      Здравствуйте, Оксана!Впечатления от работы с Вами у меня очень хорошие. С Вами легко и весело, а это для любого серьезного дела несомненный плюс.Самое ценное, что я вынесла из консультации - ясное осознание своих эмоций (которые Вы так четко озвучили), суть моего сопротивления, и что нужно все-таки принимать себя, без этого никак. Что нужно искать в себе цветные краски, а не зацикливаться только на черном. Сейчас вот именно это и практикую. Позволила себе выспаться до отвала, и не осуждаю себя за это. \"Черт возьми, я же в отпуске! Могу же себе позволить!\" И могу позволить заниматься тем, что доставляет удовольствие, а не уборкой, в которой большой необходимости-то и нет на самом деле. Ищу в себе цветное, учусь смотреть на себя с разных сторон. Да, я лентяйка и тормоз, но зато добрый человек, ответственный скрупулезный работник, усидчивая и терпеливая, нежная и ласковая... И правда, почему это я только на черном в себе зацикливаюсь?.. Видимо, природе зачем-то нужны черепахи, коалы и ленивцы, а не только бобры-трудяги, пчелки и муравьи. Просто я родилась в семье самых \"трудяжных\" бобров, и быть среди них ленивцем - очень стыдно, неприемлемо и отвергаемо... Я думаю, мне предстоит большой путь по принятию себя, но это того стоит.Большое спасибо Вам за консультацию.[spoiler=P.S.\n",
      "9103                                                                                                                                                                                                                                                                                                            В древности люди верили что Земля держится на четырёх слонах, которые стоят на спине плавающей черепахи. В моем представлении, черепаха - это психологическое здоровье человека. Но такое представление сложилось для меня совсем недавно. С подвигло меня на это продолжительное состояние апатии, нерешительности и стресса. Когда я почувствовала предпосылки непоправимо негативного влияния на мое физическое здоровье,я обратилась к Сергею за консультацией. У меня был негативный опыт работы с психологом, однако, благодаря рекомендациям близких подруг, решилась на беседу. Хотелось бы сразу отметить, что Сергей с первых минут очень располагает к общению и подкупает своей искренностью и улыбкой. Консультация проходила в режиме диалога, но никак не монолога! А это весьма важно - не просто рассказать о проблеме, но и получить механизмы ее решения! С этой задачей Сергей справился на отлично! Сейчас я чувствую себя гораздо лучше.И смело могу рекомендовать его как высококвалифицированного специалиста!\n",
      "Name: отзыв, dtype: object\n"
     ]
    }
   ],
   "source": [
    "ix = rev_pos[rev_pos.apply(lambda x: 'черепаха' in x)].index\n",
    "with pd.option_context('display.max_colwidth', None):\n",
    "    print(df.iloc[ix, 0])"
   ]
  },
  {
   "cell_type": "markdown",
   "metadata": {},
   "source": [
    "Также можно проанализировать N-граммы, но они менее информативны, чем шансы слов. Возможно, было бы лучше так же найти шансы N-граммов, но результаты будут менее надёжны, так как уменьшатся частоты элементов (в данном случае - биграммов)."
   ]
  },
  {
   "cell_type": "code",
   "execution_count": 38,
   "metadata": {},
   "outputs": [],
   "source": [
    "def count_ngrams(series: pd.Series, n: int) -> pd.Series:\n",
    "    ngrams = series.copy().str.split(' ').explode()\n",
    "    for i in range(1, n):\n",
    "        ngrams += ' ' + ngrams.groupby(level=0).shift(-i)\n",
    "        ngrams = ngrams.dropna()\n",
    "    return ngrams.value_counts()    "
   ]
  },
  {
   "cell_type": "code",
   "execution_count": 39,
   "metadata": {},
   "outputs": [],
   "source": [
    "df['review_lem'] = [' '.join(i) for i in reviews_processed]"
   ]
  },
  {
   "cell_type": "code",
   "execution_count": 40,
   "metadata": {},
   "outputs": [
    {
     "name": "stdout",
     "output_type": "stream",
     "text": [
      "Index(['данный специалист', 'демо консультация', 'время консультация',\n",
      "       'очный консультация', 'закрывать тема', 'консультация данный',\n",
      "       'весь время', 'задавать вопрос', 'обращаться психолог',\n",
      "       'проблема решать', 'взять тема', 'свой проблема', 'решать проблема',\n",
      "       'татьяна михайловна', 'сказать это', 'это нормально',\n",
      "       'становиться плохо', 'складываться впечатление', 'работа психолог',\n",
      "       'консультация скайп', 'год назад', 'решение проблема', 'очень жаль',\n",
      "       'консультация это', 'сей пора', 'тема закрывать', 'обращаться помощь',\n",
      "       'демо тема', 'опускать рука', 'весь это', 'дальнейший работа',\n",
      "       'специалист который', 'оставаться неприятный', 'свой вопрос',\n",
      "       'https www', 'несколько день', 'сделать это', 'психолог который',\n",
      "       'это делать', 'консультация специалист', 'психолог мочь',\n",
      "       'консультация сайт', 'получать помощь', 'ставить диагноз',\n",
      "       'некоторый время', 'свой время', 'неприятный впечатление', 'весь таки',\n",
      "       'долгий время', 'это лишь'],\n",
      "      dtype='object')\n"
     ]
    }
   ],
   "source": [
    "print(count_ngrams(df.loc[df[df.columns[1]] == 'о', 'review_lem'], 2).index[:50])"
   ]
  },
  {
   "cell_type": "markdown",
   "metadata": {},
   "source": [
    "В заключении я рисовал облака слов. Но, если честно, на них непросто найти различия между положительными и отрицательными отзывами. Эти графики не приносят новой информации в удобной форме. Хоть и выглядят внушительно, но пользы от них немного."
   ]
  }
 ],
 "metadata": {
  "kernelspec": {
   "display_name": "Python 3",
   "language": "python",
   "name": "python3"
  },
  "language_info": {
   "codemirror_mode": {
    "name": "ipython",
    "version": 3
   },
   "file_extension": ".py",
   "mimetype": "text/x-python",
   "name": "python",
   "nbconvert_exporter": "python",
   "pygments_lexer": "ipython3",
   "version": "3.8.8"
  }
 },
 "nbformat": 4,
 "nbformat_minor": 4
}
